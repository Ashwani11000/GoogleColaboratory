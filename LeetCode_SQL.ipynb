{
  "nbformat": 4,
  "nbformat_minor": 0,
  "metadata": {
    "colab": {
      "provenance": [],
      "collapsed_sections": [
        "sO0446mLLvCg"
      ],
      "authorship_tag": "ABX9TyMj2EBZhSm4wwy1Vq3PFHWR",
      "include_colab_link": true
    },
    "kernelspec": {
      "name": "python3",
      "display_name": "Python 3"
    },
    "language_info": {
      "name": "python"
    }
  },
  "cells": [
    {
      "cell_type": "markdown",
      "metadata": {
        "id": "view-in-github",
        "colab_type": "text"
      },
      "source": [
        "<a href=\"https://colab.research.google.com/github/Ashwani11000/GoogleColaboratory/blob/main/LeetCode_SQL.ipynb\" target=\"_parent\"><img src=\"https://colab.research.google.com/assets/colab-badge.svg\" alt=\"Open In Colab\"/></a>"
      ]
    },
    {
      "cell_type": "code",
      "execution_count": 1,
      "metadata": {
        "colab": {
          "base_uri": "https://localhost:8080/"
        },
        "id": "qq9rPYGHM8Fe",
        "outputId": "40c975b9-4020-442b-d284-78dc06c4e607"
      },
      "outputs": [
        {
          "output_type": "stream",
          "name": "stdout",
          "text": [
            "Requirement already satisfied: pyspark in /usr/local/lib/python3.10/dist-packages (3.5.3)\n",
            "Requirement already satisfied: py4j==0.10.9.7 in /usr/local/lib/python3.10/dist-packages (from pyspark) (0.10.9.7)\n"
          ]
        }
      ],
      "source": [
        "!pip install pyspark\n",
        "from pyspark.sql import SparkSession\n",
        "spark = SparkSession.builder.appName(\"LEETCODE SQL\").getOrCreate()"
      ]
    },
    {
      "cell_type": "code",
      "source": [
        "data ='''\n",
        "+---+-------+------+\n",
        "| id|company|salary|\n",
        "+---+-------+------+\n",
        "|  5|      A|   451|\n",
        "|  9|      B|  1154|\n",
        "| 14|      C|  2645|\n",
        "+---+-------+------+\n",
        "'''\n",
        "final_data = list()\n",
        "for i in data.strip().split('\\n'):\n",
        "  tmp = tuple()\n",
        "  if i.startswith('+'):\n",
        "    continue\n",
        "  else:\n",
        "    for j in i.split('|'):\n",
        "      if j != '':\n",
        "        tmp = tmp + (j.strip(),)\n",
        "  final_data.append(tmp)\n",
        "print(final_data)"
      ],
      "metadata": {
        "id": "N9HW0s92Hy1Y"
      },
      "execution_count": null,
      "outputs": []
    },
    {
      "cell_type": "markdown",
      "source": [
        "### 615. Average Salary: Departments VS Company"
      ],
      "metadata": {
        "id": "sO0446mLLvCg"
      }
    },
    {
      "cell_type": "code",
      "source": [
        "# SQL Schema:\n",
        "# Create table If Not Exists salary (id int, employee_id int, amount int, pay_date date)\n",
        "# Create table If Not Exists employee (employee_id int, department_id int)\n",
        "\n",
        "# Given two tables as below, write a query to display the comparison result (higher/lower/same) of the average salary of employees in a department to the company's average salary.\n",
        "\n",
        "# Table: salary\n",
        "# | id | employee_id | amount | pay_date   |\n",
        "# |----|-------------|--------|------------|\n",
        "# | 1  | 1           | 9000   | 2017-03-31 |\n",
        "# | 2  | 2           | 6000   | 2017-03-31 |\n",
        "# | 3  | 3           | 10000  | 2017-03-31 |\n",
        "# | 4  | 1           | 7000   | 2017-02-28 |\n",
        "# | 5  | 2           | 6000   | 2017-02-28 |\n",
        "# | 6  | 3           | 8000   | 2017-02-28 |\n",
        "\n",
        "\n",
        "# The employee_id column refers to the employee_id in the following table employee.\n",
        "\n",
        "\n",
        "# | employee_id | department_id |\n",
        "# |-------------|---------------|\n",
        "# | 1           | 1             |\n",
        "# | 2           | 2             |\n",
        "# | 3           | 2             |\n",
        "\n",
        "\n",
        "# So for the sample data above, the result is:\n",
        "\n",
        "\n",
        "# | pay_month | department_id | comparison  |\n",
        "# |-----------|---------------|-------------|\n",
        "# | 2017-03   | 1             | higher      |\n",
        "# | 2017-03   | 2             | lower       |\n",
        "# | 2017-02   | 1             | same        |\n",
        "# | 2017-02   | 2             | same        |\n",
        "\n",
        "\n",
        "# Explanation\n",
        "\n",
        "\n",
        "# In March, the company's average salary is (9000+6000+10000)/3 = 8333.33...\n",
        "# The average salary for department '1' is 9000, which is the salary of employee_id '1' since there is only one employee in this department. So the comparison result is 'higher' since 9000 > 8333.33 obviously.\n",
        "# The average salary of department '2' is (6000 + 10000)/2 = 8000, which is the average of employee_id '2' and '3'. So the comparison result is 'lower' since 8000 < 8333.33.\n",
        "# With he same formula for the average salary comparison in February, the result is 'same' since both the department '1' and '2' have the same average salary with the company, which is 7000.\n",
        "\n",
        "\n",
        "# Takeaway:\n",
        "# PARTITION BY cannot use alias in the same SELECT clause."
      ],
      "metadata": {
        "id": "uJhIWoxHLhov"
      },
      "execution_count": null,
      "outputs": []
    },
    {
      "cell_type": "code",
      "source": [
        "data = [\n",
        "    ('id', 'employee_id', 'amount', 'pay_date'),\n",
        "    (1, 1, 9000, '2017/03/31'),\n",
        "    (2, 2, 6000, '2017/03/31'),\n",
        "    (3, 3, 10000, '2017/03/31'),\n",
        "    (4, 1, 7000, '2017/02/28'),\n",
        "    (5, 2, 6000, '2017/02/28'),\n",
        "    (6, 3, 8000, '2017/02/28')\n",
        "]\n",
        "\n",
        "salarydf = spark.createDataFrame(data[1:], schema = data[0] )\n",
        "\n",
        "emp_data = [\n",
        "    ('employee_id', 'department_id'),\n",
        "    (1, 1),\n",
        "    (2, 2),\n",
        "    (3, 2)\n",
        "]\n",
        "\n",
        "employeedf = spark.createDataFrame(emp_data[1:], schema = emp_data[0] )\n",
        "\n",
        "salarydf.show()\n",
        "\n",
        "employeedf.show()\n",
        "salarydf.createOrReplaceTempView(\"salary\")\n",
        "employeedf.createOrReplaceTempView(\"employee\")"
      ],
      "metadata": {
        "colab": {
          "base_uri": "https://localhost:8080/"
        },
        "id": "8yIhprnG8zQ1",
        "outputId": "57229dd9-3cbc-4468-858d-0ffa0e1852f5"
      },
      "execution_count": null,
      "outputs": [
        {
          "output_type": "stream",
          "name": "stdout",
          "text": [
            "+---+-----------+------+----------+\n",
            "| id|employee_id|amount|  pay_date|\n",
            "+---+-----------+------+----------+\n",
            "|  1|          1|  9000|2017/03/31|\n",
            "|  2|          2|  6000|2017/03/31|\n",
            "|  3|          3| 10000|2017/03/31|\n",
            "|  4|          1|  7000|2017/02/28|\n",
            "|  5|          2|  6000|2017/02/28|\n",
            "|  6|          3|  8000|2017/02/28|\n",
            "+---+-----------+------+----------+\n",
            "\n",
            "+-----------+-------------+\n",
            "|employee_id|department_id|\n",
            "+-----------+-------------+\n",
            "|          1|            1|\n",
            "|          2|            2|\n",
            "|          3|            2|\n",
            "+-----------+-------------+\n",
            "\n"
          ]
        }
      ]
    },
    {
      "cell_type": "code",
      "source": [
        "spark.sql('''\n",
        "Select distinct month as pay_month,department_id, if(perDepartment =total_avg,'same',if(perDepartment>total_avg,'higher','lower')) as comparison\n",
        "from (\n",
        "SELECT *,LEFT(pay_date,7) AS MONTH ,avg(amount) OVER(PARTITION BY department_id,LEFT(pay_date,7) ) as perDepartment ,avg(amount) OVER(PARTITION BY LEFT(pay_date,7)) as total_avg\n",
        "from salary\n",
        "inner JOIN employee\n",
        "ON salary.employee_id = employee.employee_id\n",
        ") abc\n",
        "''').show()"
      ],
      "metadata": {
        "colab": {
          "base_uri": "https://localhost:8080/"
        },
        "id": "Qf-UbGSmAQ5G",
        "outputId": "3a1b714e-a2d7-4c74-fac7-e9d5e509ee7a"
      },
      "execution_count": null,
      "outputs": [
        {
          "output_type": "stream",
          "name": "stdout",
          "text": [
            "+---------+-------------+----------+\n",
            "|pay_month|department_id|comparison|\n",
            "+---------+-------------+----------+\n",
            "|  2017/03|            2|     lower|\n",
            "|  2017/02|            2|      same|\n",
            "|  2017/03|            1|    higher|\n",
            "|  2017/02|            1|      same|\n",
            "+---------+-------------+----------+\n",
            "\n"
          ]
        }
      ]
    },
    {
      "cell_type": "markdown",
      "source": [
        "### 569. Median Employee Salary-Hard"
      ],
      "metadata": {
        "id": "rq2s6Butcuxj"
      }
    },
    {
      "cell_type": "code",
      "source": [
        "# Schema:\n",
        "# Create table If Not Exists Employee (Id int, Company varchar(255), Salary int);\n",
        "\n",
        "# The Employee table holds all employees. The employee table has three columns: Employee Id, Company Name, and Salary.\n",
        "\n",
        "# +-----+------------+--------+\n",
        "# |Id   | Company    | Salary |\n",
        "# +-----+------------+--------+\n",
        "# |1    | A          | 2341   |\n",
        "# |2    | A          | 341    |\n",
        "# |3    | A          | 15     |\n",
        "# |4    | A          | 15314  |\n",
        "# |5    | A          | 451    |\n",
        "# |6    | A          | 513    |\n",
        "# |7    | B          | 15     |\n",
        "# |8    | B          | 13     |\n",
        "# |9    | B          | 1154   |\n",
        "# |10   | B          | 1345   |\n",
        "# |11   | B          | 1221   |\n",
        "# |12   | B          | 234    |\n",
        "# |13   | C          | 2345   |\n",
        "# |14   | C          | 2645   |\n",
        "# |15   | C          | 2645   |\n",
        "# |16   | C          | 2652   |\n",
        "# |17   | C          | 65     |\n",
        "# +-----+------------+--------+\n",
        "# Write a SQL query to find the median salary of each company. Bonus points if you can solve it without using any built-in SQL functions.\n",
        "\n",
        "# +-----+------------+--------+\n",
        "# |Id   | Company    | Salary |\n",
        "# +-----+------------+--------+\n",
        "# |5    | A          | 451    |\n",
        "# |6    | A          | 513    |\n",
        "# |12   | B          | 234    |\n",
        "# |9    | B          | 1154   |\n",
        "# |14   | C          | 2645   |\n",
        "# +-----+------------+--------+"
      ],
      "metadata": {
        "id": "yhN2ijVrcuaQ"
      },
      "execution_count": null,
      "outputs": []
    },
    {
      "cell_type": "code",
      "source": [
        "emp_data = [('id', 'company', 'salary'),\n",
        "('1', 'A', '2341'),\n",
        "('2', 'A', '341'),\n",
        "('3', 'A', '15'),\n",
        "('4', 'A', '15314'),\n",
        "('5', 'A', '451'),\n",
        "('6', 'A', '513'),\n",
        "('7', 'B', '15'),\n",
        "('8', 'B', '13'),\n",
        "('9', 'B', '1154'),\n",
        "('10', 'B', '1345'),\n",
        "('11', 'B', '1221'),\n",
        "('12', 'B', '234'),\n",
        "('13', 'C', '2345'),\n",
        "('14', 'C', '2645'),\n",
        "('15', 'C', '2645'),\n",
        "('16', 'C', '2652'),\n",
        "('17', 'C', '65')]\n",
        "\n",
        "emp_df = spark.createDataFrame(data = emp_data[1:], schema = emp_data[0])\n",
        "\n",
        "emp_df.show()\n",
        "emp_df.createOrReplaceTempView('employee')"
      ],
      "metadata": {
        "id": "NscJtEmjdFKV",
        "colab": {
          "base_uri": "https://localhost:8080/"
        },
        "outputId": "4e64275a-af3e-457a-c5c8-4043e6f63ca0"
      },
      "execution_count": 3,
      "outputs": [
        {
          "output_type": "stream",
          "name": "stdout",
          "text": [
            "+---+-------+------+\n",
            "| id|company|salary|\n",
            "+---+-------+------+\n",
            "|  1|      A|  2341|\n",
            "|  2|      A|   341|\n",
            "|  3|      A|    15|\n",
            "|  4|      A| 15314|\n",
            "|  5|      A|   451|\n",
            "|  6|      A|   513|\n",
            "|  7|      B|    15|\n",
            "|  8|      B|    13|\n",
            "|  9|      B|  1154|\n",
            "| 10|      B|  1345|\n",
            "| 11|      B|  1221|\n",
            "| 12|      B|   234|\n",
            "| 13|      C|  2345|\n",
            "| 14|      C|  2645|\n",
            "| 15|      C|  2645|\n",
            "| 16|      C|  2652|\n",
            "| 17|      C|    65|\n",
            "+---+-------+------+\n",
            "\n"
          ]
        }
      ]
    },
    {
      "cell_type": "code",
      "source": [
        "spark.sql('''\n",
        "Select id, company, salary\n",
        "from (\n",
        "Select *, if(total%2==0, total/2, (total+1)/2) as opt1, if(total%2==0, (total+2)/2, (total+1)/2) as opt2\n",
        "from (\n",
        "Select *, row_number() over(partition by company order by cast(salary as int)) as rnk, count(salary) over(partition by company) as total\n",
        "from employee) emp1\n",
        ") emp2\n",
        "where rnk = opt1 or rnk=opt2\n",
        "''').show()"
      ],
      "metadata": {
        "colab": {
          "base_uri": "https://localhost:8080/"
        },
        "id": "v-zy3M_JfEdJ",
        "outputId": "e24b6edf-4209-4524-a3de-bc50ccfbed5a"
      },
      "execution_count": 22,
      "outputs": [
        {
          "output_type": "stream",
          "name": "stdout",
          "text": [
            "+---+-------+------+\n",
            "| id|company|salary|\n",
            "+---+-------+------+\n",
            "|  5|      A|   451|\n",
            "|  6|      A|   513|\n",
            "| 12|      B|   234|\n",
            "|  9|      B|  1154|\n",
            "| 14|      C|  2645|\n",
            "+---+-------+------+\n",
            "\n"
          ]
        }
      ]
    },
    {
      "cell_type": "code",
      "source": [],
      "metadata": {
        "id": "E6so4J5iDNnE"
      },
      "execution_count": null,
      "outputs": []
    }
  ]
}