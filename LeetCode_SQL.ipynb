{
  "nbformat": 4,
  "nbformat_minor": 0,
  "metadata": {
    "colab": {
      "provenance": [],
      "collapsed_sections": [
        "sO0446mLLvCg"
      ],
      "authorship_tag": "ABX9TyMdnVXJ7N6pxJgiJEz6czgw",
      "include_colab_link": true
    },
    "kernelspec": {
      "name": "python3",
      "display_name": "Python 3"
    },
    "language_info": {
      "name": "python"
    }
  },
  "cells": [
    {
      "cell_type": "markdown",
      "metadata": {
        "id": "view-in-github",
        "colab_type": "text"
      },
      "source": [
        "<a href=\"https://colab.research.google.com/github/Ashwani11000/GoogleColaboratory/blob/main/LeetCode_SQL.ipynb\" target=\"_parent\"><img src=\"https://colab.research.google.com/assets/colab-badge.svg\" alt=\"Open In Colab\"/></a>"
      ]
    },
    {
      "cell_type": "code",
      "execution_count": 1,
      "metadata": {
        "colab": {
          "base_uri": "https://localhost:8080/"
        },
        "id": "qq9rPYGHM8Fe",
        "outputId": "639c4da6-cf21-4f82-c158-378a692851d7"
      },
      "outputs": [
        {
          "output_type": "stream",
          "name": "stdout",
          "text": [
            "Requirement already satisfied: pyspark in /usr/local/lib/python3.10/dist-packages (3.5.3)\n",
            "Requirement already satisfied: py4j==0.10.9.7 in /usr/local/lib/python3.10/dist-packages (from pyspark) (0.10.9.7)\n"
          ]
        }
      ],
      "source": [
        "!pip install pyspark\n",
        "from pyspark.sql import SparkSession\n",
        "spark = SparkSession.builder.appName(\"LEETCODE SQL\").getOrCreate()"
      ]
    },
    {
      "cell_type": "markdown",
      "source": [
        "Code for extracting the data from the leetcode tables."
      ],
      "metadata": {
        "id": "JwjsAkSDM2Xw"
      }
    },
    {
      "cell_type": "code",
      "source": [
        "data ='''\n",
        "+----+-------+--------+-----------+\n",
        "| id | name  | salary | managerId |\n",
        "+----+-------+--------+-----------+\n",
        "| 1  | Joe   | 70000  | 3         |\n",
        "| 2  | Henry | 80000  | 4         |\n",
        "| 3  | Sam   | 60000  | Null      |\n",
        "| 4  | Max   | 90000  | Null      |\n",
        "+----+-------+--------+-----------+\n",
        "'''\n",
        "# Just paste the data here.\n",
        "final_data = list()\n",
        "for i in data.strip().split('\\n'):\n",
        "  tmp = tuple()\n",
        "  if i.startswith('+'):\n",
        "    continue\n",
        "  else:\n",
        "    for j in i.split('|'):\n",
        "      if j != '':\n",
        "        tmp = tmp + (j.strip(),)\n",
        "  final_data.append(tmp)\n",
        "print(final_data)"
      ],
      "metadata": {
        "id": "N9HW0s92Hy1Y",
        "outputId": "9b124210-22d0-461b-8909-7a3acf426ea1",
        "colab": {
          "base_uri": "https://localhost:8080/"
        }
      },
      "execution_count": 2,
      "outputs": [
        {
          "output_type": "stream",
          "name": "stdout",
          "text": [
            "[('id', 'name', 'salary', 'managerId'), ('1', 'Joe', '70000', '3'), ('2', 'Henry', '80000', '4'), ('3', 'Sam', '60000', 'Null'), ('4', 'Max', '90000', 'Null')]\n"
          ]
        }
      ]
    },
    {
      "cell_type": "markdown",
      "source": [
        "### 615. Average Salary: Departments VS Company"
      ],
      "metadata": {
        "id": "sO0446mLLvCg"
      }
    },
    {
      "cell_type": "code",
      "source": [
        "# SQL Schema:\n",
        "# Create table If Not Exists salary (id int, employee_id int, amount int, pay_date date)\n",
        "# Create table If Not Exists employee (employee_id int, department_id int)\n",
        "\n",
        "# Given two tables as below, write a query to display the comparison result (higher/lower/same) of the average salary of employees in a department to the company's average salary.\n",
        "\n",
        "# Table: salary\n",
        "# | id | employee_id | amount | pay_date   |\n",
        "# |----|-------------|--------|------------|\n",
        "# | 1  | 1           | 9000   | 2017-03-31 |\n",
        "# | 2  | 2           | 6000   | 2017-03-31 |\n",
        "# | 3  | 3           | 10000  | 2017-03-31 |\n",
        "# | 4  | 1           | 7000   | 2017-02-28 |\n",
        "# | 5  | 2           | 6000   | 2017-02-28 |\n",
        "# | 6  | 3           | 8000   | 2017-02-28 |\n",
        "\n",
        "\n",
        "# The employee_id column refers to the employee_id in the following table employee.\n",
        "\n",
        "\n",
        "# | employee_id | department_id |\n",
        "# |-------------|---------------|\n",
        "# | 1           | 1             |\n",
        "# | 2           | 2             |\n",
        "# | 3           | 2             |\n",
        "\n",
        "\n",
        "# So for the sample data above, the result is:\n",
        "\n",
        "\n",
        "# | pay_month | department_id | comparison  |\n",
        "# |-----------|---------------|-------------|\n",
        "# | 2017-03   | 1             | higher      |\n",
        "# | 2017-03   | 2             | lower       |\n",
        "# | 2017-02   | 1             | same        |\n",
        "# | 2017-02   | 2             | same        |\n",
        "\n",
        "\n",
        "# Explanation\n",
        "\n",
        "\n",
        "# In March, the company's average salary is (9000+6000+10000)/3 = 8333.33...\n",
        "# The average salary for department '1' is 9000, which is the salary of employee_id '1' since there is only one employee in this department. So the comparison result is 'higher' since 9000 > 8333.33 obviously.\n",
        "# The average salary of department '2' is (6000 + 10000)/2 = 8000, which is the average of employee_id '2' and '3'. So the comparison result is 'lower' since 8000 < 8333.33.\n",
        "# With he same formula for the average salary comparison in February, the result is 'same' since both the department '1' and '2' have the same average salary with the company, which is 7000.\n",
        "\n",
        "\n",
        "# Takeaway:\n",
        "# PARTITION BY cannot use alias in the same SELECT clause."
      ],
      "metadata": {
        "id": "uJhIWoxHLhov"
      },
      "execution_count": null,
      "outputs": []
    },
    {
      "cell_type": "code",
      "source": [
        "data = [\n",
        "    ('id', 'employee_id', 'amount', 'pay_date'),\n",
        "    (1, 1, 9000, '2017/03/31'),\n",
        "    (2, 2, 6000, '2017/03/31'),\n",
        "    (3, 3, 10000, '2017/03/31'),\n",
        "    (4, 1, 7000, '2017/02/28'),\n",
        "    (5, 2, 6000, '2017/02/28'),\n",
        "    (6, 3, 8000, '2017/02/28')\n",
        "]\n",
        "\n",
        "salarydf = spark.createDataFrame(data[1:], schema = data[0] )\n",
        "\n",
        "emp_data = [\n",
        "    ('employee_id', 'department_id'),\n",
        "    (1, 1),\n",
        "    (2, 2),\n",
        "    (3, 2)\n",
        "]\n",
        "\n",
        "employeedf = spark.createDataFrame(emp_data[1:], schema = emp_data[0] )\n",
        "\n",
        "salarydf.show()\n",
        "\n",
        "employeedf.show()\n",
        "salarydf.createOrReplaceTempView(\"salary\")\n",
        "employeedf.createOrReplaceTempView(\"employee\")"
      ],
      "metadata": {
        "colab": {
          "base_uri": "https://localhost:8080/"
        },
        "id": "8yIhprnG8zQ1",
        "outputId": "57229dd9-3cbc-4468-858d-0ffa0e1852f5"
      },
      "execution_count": null,
      "outputs": [
        {
          "output_type": "stream",
          "name": "stdout",
          "text": [
            "+---+-----------+------+----------+\n",
            "| id|employee_id|amount|  pay_date|\n",
            "+---+-----------+------+----------+\n",
            "|  1|          1|  9000|2017/03/31|\n",
            "|  2|          2|  6000|2017/03/31|\n",
            "|  3|          3| 10000|2017/03/31|\n",
            "|  4|          1|  7000|2017/02/28|\n",
            "|  5|          2|  6000|2017/02/28|\n",
            "|  6|          3|  8000|2017/02/28|\n",
            "+---+-----------+------+----------+\n",
            "\n",
            "+-----------+-------------+\n",
            "|employee_id|department_id|\n",
            "+-----------+-------------+\n",
            "|          1|            1|\n",
            "|          2|            2|\n",
            "|          3|            2|\n",
            "+-----------+-------------+\n",
            "\n"
          ]
        }
      ]
    },
    {
      "cell_type": "code",
      "source": [
        "spark.sql('''\n",
        "Select distinct month as pay_month,department_id, if(perDepartment =total_avg,'same',if(perDepartment>total_avg,'higher','lower')) as comparison\n",
        "from (\n",
        "SELECT *,LEFT(pay_date,7) AS MONTH ,avg(amount) OVER(PARTITION BY department_id,LEFT(pay_date,7) ) as perDepartment ,avg(amount) OVER(PARTITION BY LEFT(pay_date,7)) as total_avg\n",
        "from salary\n",
        "inner JOIN employee\n",
        "ON salary.employee_id = employee.employee_id\n",
        ") abc\n",
        "''').show()"
      ],
      "metadata": {
        "colab": {
          "base_uri": "https://localhost:8080/"
        },
        "id": "Qf-UbGSmAQ5G",
        "outputId": "3a1b714e-a2d7-4c74-fac7-e9d5e509ee7a"
      },
      "execution_count": null,
      "outputs": [
        {
          "output_type": "stream",
          "name": "stdout",
          "text": [
            "+---------+-------------+----------+\n",
            "|pay_month|department_id|comparison|\n",
            "+---------+-------------+----------+\n",
            "|  2017/03|            2|     lower|\n",
            "|  2017/02|            2|      same|\n",
            "|  2017/03|            1|    higher|\n",
            "|  2017/02|            1|      same|\n",
            "+---------+-------------+----------+\n",
            "\n"
          ]
        }
      ]
    },
    {
      "cell_type": "markdown",
      "source": [
        "### 569. Median Employee Salary-Hard"
      ],
      "metadata": {
        "id": "rq2s6Butcuxj"
      }
    },
    {
      "cell_type": "code",
      "source": [
        "# Schema:\n",
        "# Create table If Not Exists Employee (Id int, Company varchar(255), Salary int);\n",
        "\n",
        "# The Employee table holds all employees. The employee table has three columns: Employee Id, Company Name, and Salary.\n",
        "\n",
        "# +-----+------------+--------+\n",
        "# |Id   | Company    | Salary |\n",
        "# +-----+------------+--------+\n",
        "# |1    | A          | 2341   |\n",
        "# |2    | A          | 341    |\n",
        "# |3    | A          | 15     |\n",
        "# |4    | A          | 15314  |\n",
        "# |5    | A          | 451    |\n",
        "# |6    | A          | 513    |\n",
        "# |7    | B          | 15     |\n",
        "# |8    | B          | 13     |\n",
        "# |9    | B          | 1154   |\n",
        "# |10   | B          | 1345   |\n",
        "# |11   | B          | 1221   |\n",
        "# |12   | B          | 234    |\n",
        "# |13   | C          | 2345   |\n",
        "# |14   | C          | 2645   |\n",
        "# |15   | C          | 2645   |\n",
        "# |16   | C          | 2652   |\n",
        "# |17   | C          | 65     |\n",
        "# +-----+------------+--------+\n",
        "# Write a SQL query to find the median salary of each company. Bonus points if you can solve it without using any built-in SQL functions.\n",
        "\n",
        "# +-----+------------+--------+\n",
        "# |Id   | Company    | Salary |\n",
        "# +-----+------------+--------+\n",
        "# |5    | A          | 451    |\n",
        "# |6    | A          | 513    |\n",
        "# |12   | B          | 234    |\n",
        "# |9    | B          | 1154   |\n",
        "# |14   | C          | 2645   |\n",
        "# +-----+------------+--------+"
      ],
      "metadata": {
        "id": "yhN2ijVrcuaQ"
      },
      "execution_count": null,
      "outputs": []
    },
    {
      "cell_type": "code",
      "source": [
        "emp_data = [('id', 'company', 'salary'),\n",
        "('1', 'A', '2341'),\n",
        "('2', 'A', '341'),\n",
        "('3', 'A', '15'),\n",
        "('4', 'A', '15314'),\n",
        "('5', 'A', '451'),\n",
        "('6', 'A', '513'),\n",
        "('7', 'B', '15'),\n",
        "('8', 'B', '13'),\n",
        "('9', 'B', '1154'),\n",
        "('10', 'B', '1345'),\n",
        "('11', 'B', '1221'),\n",
        "('12', 'B', '234'),\n",
        "('13', 'C', '2345'),\n",
        "('14', 'C', '2645'),\n",
        "('15', 'C', '2645'),\n",
        "('16', 'C', '2652'),\n",
        "('17', 'C', '65')]\n",
        "\n",
        "emp_df = spark.createDataFrame(data = emp_data[1:], schema = emp_data[0])\n",
        "\n",
        "emp_df.show()\n",
        "emp_df.createOrReplaceTempView('employee')"
      ],
      "metadata": {
        "id": "NscJtEmjdFKV",
        "colab": {
          "base_uri": "https://localhost:8080/"
        },
        "outputId": "4e64275a-af3e-457a-c5c8-4043e6f63ca0"
      },
      "execution_count": null,
      "outputs": [
        {
          "output_type": "stream",
          "name": "stdout",
          "text": [
            "+---+-------+------+\n",
            "| id|company|salary|\n",
            "+---+-------+------+\n",
            "|  1|      A|  2341|\n",
            "|  2|      A|   341|\n",
            "|  3|      A|    15|\n",
            "|  4|      A| 15314|\n",
            "|  5|      A|   451|\n",
            "|  6|      A|   513|\n",
            "|  7|      B|    15|\n",
            "|  8|      B|    13|\n",
            "|  9|      B|  1154|\n",
            "| 10|      B|  1345|\n",
            "| 11|      B|  1221|\n",
            "| 12|      B|   234|\n",
            "| 13|      C|  2345|\n",
            "| 14|      C|  2645|\n",
            "| 15|      C|  2645|\n",
            "| 16|      C|  2652|\n",
            "| 17|      C|    65|\n",
            "+---+-------+------+\n",
            "\n"
          ]
        }
      ]
    },
    {
      "cell_type": "code",
      "source": [
        "spark.sql('''\n",
        "Select id, company, salary\n",
        "from (\n",
        "Select *, if(total%2==0, total/2, (total+1)/2) as opt1, if(total%2==0, (total+2)/2, (total+1)/2) as opt2\n",
        "from (\n",
        "Select *, row_number() over(partition by company order by cast(salary as int)) as rnk, count(salary) over(partition by company) as total\n",
        "from employee) emp1\n",
        ") emp2\n",
        "where rnk = opt1 or rnk=opt2\n",
        "''').show()"
      ],
      "metadata": {
        "colab": {
          "base_uri": "https://localhost:8080/"
        },
        "id": "v-zy3M_JfEdJ",
        "outputId": "e24b6edf-4209-4524-a3de-bc50ccfbed5a"
      },
      "execution_count": null,
      "outputs": [
        {
          "output_type": "stream",
          "name": "stdout",
          "text": [
            "+---+-------+------+\n",
            "| id|company|salary|\n",
            "+---+-------+------+\n",
            "|  5|      A|   451|\n",
            "|  6|      A|   513|\n",
            "| 12|      B|   234|\n",
            "|  9|      B|  1154|\n",
            "| 14|      C|  2645|\n",
            "+---+-------+------+\n",
            "\n"
          ]
        }
      ]
    },
    {
      "cell_type": "markdown",
      "source": [
        "### 181. Employees Earning More Than Their Managers"
      ],
      "metadata": {
        "id": "XNVjZjtHOliy"
      }
    },
    {
      "cell_type": "code",
      "source": [
        "# 181. Employees Earning More Than Their Managers\n",
        "\n",
        "# Table: Employee\n",
        "\n",
        "# +-------------+---------+\n",
        "# | Column Name | Type    |\n",
        "# +-------------+---------+\n",
        "# | id          | int     |\n",
        "# | name        | varchar |\n",
        "# | salary      | int     |\n",
        "# | managerId   | int     |\n",
        "# +-------------+---------+\n",
        "# id is the primary key (column with unique values) for this table.\n",
        "# Each row of this table indicates the ID of an employee, their name, salary, and the ID of their manager.\n",
        "\n",
        "\n",
        "# Write a solution to find the employees who earn more than their managers.\n",
        "\n",
        "# Return the result table in any order.\n",
        "\n",
        "# The result format is in the following example.\n",
        "\n",
        "\n",
        "\n",
        "# Example 1:\n",
        "\n",
        "# Input:\n",
        "# Employee table:\n",
        "# +----+-------+--------+-----------+\n",
        "# | id | name  | salary | managerId |\n",
        "# +----+-------+--------+-----------+\n",
        "# | 1  | Joe   | 70000  | 3         |\n",
        "# | 2  | Henry | 80000  | 4         |\n",
        "# | 3  | Sam   | 60000  | Null      |\n",
        "# | 4  | Max   | 90000  | Null      |\n",
        "# +----+-------+--------+-----------+\n",
        "# Output:\n",
        "# +----------+\n",
        "# | Employee |\n",
        "# +----------+\n",
        "# | Joe      |\n",
        "# +----------+\n",
        "# Explanation: Joe is the only employee who earns more than his manager."
      ],
      "metadata": {
        "id": "E6so4J5iDNnE"
      },
      "execution_count": null,
      "outputs": []
    },
    {
      "cell_type": "code",
      "source": [
        "empData = [('id', 'name', 'salary', 'managerId'), ('1', 'Joe', '70000', '3'), ('2', 'Henry', '80000', '4'), ('3', 'Sam', '60000', 'Null'), ('4', 'Max', '90000', 'Null')]\n",
        "\n",
        "emp_df = spark.createDataFrame(empData[1:], schema = empData[0])\n",
        "emp_df.show()\n",
        "emp_df.createOrReplaceTempView('employee')"
      ],
      "metadata": {
        "id": "OgZoqtV4PQ5U",
        "outputId": "d9ecc6cd-ded4-4349-cd83-a9b0979885ef",
        "colab": {
          "base_uri": "https://localhost:8080/"
        }
      },
      "execution_count": 6,
      "outputs": [
        {
          "output_type": "stream",
          "name": "stdout",
          "text": [
            "+---+-----+------+---------+\n",
            "| id| name|salary|managerId|\n",
            "+---+-----+------+---------+\n",
            "|  1|  Joe| 70000|        3|\n",
            "|  2|Henry| 80000|        4|\n",
            "|  3|  Sam| 60000|     Null|\n",
            "|  4|  Max| 90000|     Null|\n",
            "+---+-----+------+---------+\n",
            "\n"
          ]
        }
      ]
    },
    {
      "cell_type": "code",
      "source": [
        "spark.sql('''\n",
        "SELECT EMP.NAME AS EMPLOYEE\n",
        "FROM EMPLOYEE EMP\n",
        "INNER JOIN EMPLOYEE MGR\n",
        "ON EMP.MANAGERID = MGR.ID\n",
        "AND EMP.SALARY > MGR.SALARY\n",
        "''').show()"
      ],
      "metadata": {
        "id": "5Gh-HqF1PwbV",
        "outputId": "3899b6c2-c6a5-4520-83f5-cffeb2a11780",
        "colab": {
          "base_uri": "https://localhost:8080/"
        }
      },
      "execution_count": 7,
      "outputs": [
        {
          "output_type": "stream",
          "name": "stdout",
          "text": [
            "+--------+\n",
            "|EMPLOYEE|\n",
            "+--------+\n",
            "|     Joe|\n",
            "+--------+\n",
            "\n"
          ]
        }
      ]
    },
    {
      "cell_type": "markdown",
      "source": [
        "### FIN"
      ],
      "metadata": {
        "id": "WqTAaZXsOnR8"
      }
    }
  ]
}